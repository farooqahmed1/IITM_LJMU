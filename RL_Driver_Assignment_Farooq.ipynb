{
 "cells": [
  {
   "cell_type": "markdown",
   "metadata": {
    "id": "qwzub5K3jMbe"
   },
   "source": [
    "<h2><center><h1><center><font color='Red'> RL   <font color='Green'> Cab <font color='Blue'> Driver  <font color='Orange'> Assignement :\n",
    "\n",
    "<h5><center> By <br><br>\n",
    "Farooq Ahmed  <br>\n",
    "email <font color='Blue'> farooqams@hotmail.com<font color='Blue'> <br>\n",
    "<h4><center> June 2022<br><br>\n",
    "\n",
    "#### Objective of the Assignement \n",
    "\n",
    "###### The assignement required to build an RL agent that optimize taxi driving strategies for profit maximization. This optimisation problem is formulated as a Markov Decision Process.\n",
    "\n",
    "\n",
    "###### We will approach the problem by  assessing the significant drivers /layers and identifying the problem by Pythonic way, reducing duplcating task where possible / applicable. In addtion, using in Google Colab Pro (if Required using GPU). \n"
   ]
  },
  {
   "cell_type": "markdown",
   "metadata": {
    "id": "ripqN0vOlZpb"
   },
   "source": [
    "# Reset Colab Drive - Optional "
   ]
  },
  {
   "cell_type": "code",
   "execution_count": 1,
   "metadata": {
    "colab": {
     "base_uri": "https://localhost:8080/"
    },
    "id": "V5g-tHpIlSPp",
    "outputId": "964c74e9-2876-46a7-dc3d-6e1b18874054"
   },
   "outputs": [
    {
     "name": "stdout",
     "output_type": "stream",
     "text": [
      "Data Deleted\n"
     ]
    }
   ],
   "source": [
    "from google.colab import drive\n",
    "drive.flush_and_unmount()\n",
    "print(\"Data Deleted\")\n"
   ]
  },
  {
   "cell_type": "code",
   "execution_count": 2,
   "metadata": {
    "id": "9oFuT8QcmWGV"
   },
   "outputs": [],
   "source": [
    "!rm -rf /content/RL_CAB\n",
    "\n",
    "\n"
   ]
  },
  {
   "cell_type": "markdown",
   "metadata": {
    "id": "ZvUums8QlUlh"
   },
   "source": [
    "# Version Control"
   ]
  },
  {
   "cell_type": "code",
   "execution_count": 3,
   "metadata": {
    "colab": {
     "base_uri": "https://localhost:8080/"
    },
    "id": "Bm_gVhuNgnSO",
    "outputId": "70107fda-cfbb-4210-e581-2471be8ca482"
   },
   "outputs": [
    {
     "name": "stdout",
     "output_type": "stream",
     "text": [
      "`%tensorflow_version` only switches the major version: 1.x or 2.x.\n",
      "You set: `2 #1.5.0`. This will be interpreted as: `2.x`.\n",
      "\n",
      "\n",
      "TensorFlow 2.x selected.\n"
     ]
    }
   ],
   "source": [
    "%tensorflow_version 2 #1.5.0\n",
    "## we use version 2 since it compitable with TDQM "
   ]
  },
  {
   "cell_type": "code",
   "execution_count": 4,
   "metadata": {
    "colab": {
     "base_uri": "https://localhost:8080/"
    },
    "id": "3pl0hhZsgp7o",
    "outputId": "e7a1695a-9bf7-4143-bb05-1e5baae468a4"
   },
   "outputs": [
    {
     "name": "stdout",
     "output_type": "stream",
     "text": [
      "2.8.2\n"
     ]
    }
   ],
   "source": [
    "import tensorflow\n",
    "print(tensorflow.__version__)"
   ]
  },
  {
   "cell_type": "markdown",
   "metadata": {
    "id": "vSctjHGEcVeA"
   },
   "source": [
    "# BenchMarking System Resources"
   ]
  },
  {
   "cell_type": "code",
   "execution_count": 5,
   "metadata": {
    "colab": {
     "base_uri": "https://localhost:8080/"
    },
    "id": "gdWLB5r5Wjk8",
    "outputId": "9f4893e6-af3a-426a-b594-893a04d2d83e"
   },
   "outputs": [
    {
     "name": "stdout",
     "output_type": "stream",
     "text": [
      "Your runtime has 4 available CPUs\n",
      "\n"
     ]
    },
    {
     "data": {
      "text/plain": [
       "sdiskusage(total=179134558208, used=41632133120, free=137485647872, percent=23.2)"
      ]
     },
     "execution_count": 5,
     "metadata": {},
     "output_type": "execute_result"
    }
   ],
   "source": [
    "import psutil\n",
    "cpu = psutil.cpu_count(logical=True)\n",
    "print('Your runtime has {:.0f} available CPUs\\n'.format(cpu))\n",
    "psutil.disk_usage('/content')"
   ]
  },
  {
   "cell_type": "code",
   "execution_count": 6,
   "metadata": {
    "colab": {
     "base_uri": "https://localhost:8080/"
    },
    "id": "Ep114BHto9Iz",
    "outputId": "6a58d39b-43f2-49a8-e7a6-1f33a762d752"
   },
   "outputs": [
    {
     "name": "stdout",
     "output_type": "stream",
     "text": [
      "Tue Jun 21 18:13:07 2022       \n",
      "+-----------------------------------------------------------------------------+\n",
      "| NVIDIA-SMI 460.32.03    Driver Version: 460.32.03    CUDA Version: 11.2     |\n",
      "|-------------------------------+----------------------+----------------------+\n",
      "| GPU  Name        Persistence-M| Bus-Id        Disp.A | Volatile Uncorr. ECC |\n",
      "| Fan  Temp  Perf  Pwr:Usage/Cap|         Memory-Usage | GPU-Util  Compute M. |\n",
      "|                               |                      |               MIG M. |\n",
      "|===============================+======================+======================|\n",
      "|   0  Tesla P100-PCIE...  Off  | 00000000:00:04.0 Off |                    0 |\n",
      "| N/A   34C    P0    25W / 250W |      0MiB / 16280MiB |      0%      Default |\n",
      "|                               |                      |                  N/A |\n",
      "+-------------------------------+----------------------+----------------------+\n",
      "                                                                               \n",
      "+-----------------------------------------------------------------------------+\n",
      "| Processes:                                                                  |\n",
      "|  GPU   GI   CI        PID   Type   Process name                  GPU Memory |\n",
      "|        ID   ID                                                   Usage      |\n",
      "|=============================================================================|\n",
      "|  No running processes found                                                 |\n",
      "+-----------------------------------------------------------------------------+\n"
     ]
    }
   ],
   "source": [
    "gpu_info = !nvidia-smi\n",
    "gpu_info = '\\n'.join(gpu_info)\n",
    "if gpu_info.find('failed') >= 0:\n",
    "  print('Not connected to a GPU')\n",
    "else:\n",
    "  print(gpu_info)\n"
   ]
  },
  {
   "cell_type": "code",
   "execution_count": 7,
   "metadata": {
    "colab": {
     "base_uri": "https://localhost:8080/"
    },
    "id": "9aIejiE1pH7k",
    "outputId": "37471387-184a-45ef-a85b-dfddc59bd90f"
   },
   "outputs": [
    {
     "name": "stdout",
     "output_type": "stream",
     "text": [
      "Your runtime has 27.3 gigabytes of available RAM\n",
      "\n",
      "You are using a high-RAM runtime!\n"
     ]
    }
   ],
   "source": [
    "from psutil import virtual_memory\n",
    "ram_gb = virtual_memory().total / 1e9\n",
    "print('Your runtime has {:.1f} gigabytes of available RAM\\n'.format(ram_gb))\n",
    "\n",
    "if ram_gb < 20:\n",
    "  print('Not using a high-RAM runtime')\n",
    "else:\n",
    "  print('You are using a high-RAM runtime!')"
   ]
  },
  {
   "cell_type": "code",
   "execution_count": 8,
   "metadata": {
    "colab": {
     "base_uri": "https://localhost:8080/"
    },
    "id": "v_auowalurye",
    "outputId": "fe5d8c01-d559-4bcf-ae67-6191843e991e"
   },
   "outputs": [
    {
     "name": "stdout",
     "output_type": "stream",
     "text": [
      "CPU times: user 16 µs, sys: 3 µs, total: 19 µs\n",
      "Wall time: 23.6 µs\n"
     ]
    }
   ],
   "source": [
    "%%time\n",
    "import warnings\n",
    "warnings.filterwarnings('ignore')"
   ]
  },
  {
   "cell_type": "markdown",
   "metadata": {
    "id": "pLyEAjRfN05T"
   },
   "source": [
    "# Install Library [Not Available in Colab]"
   ]
  },
  {
   "cell_type": "code",
   "execution_count": 8,
   "metadata": {
    "id": "6_2gc20nVx9r"
   },
   "outputs": [],
   "source": []
  },
  {
   "cell_type": "markdown",
   "metadata": {
    "id": "q50R5LuIl06O"
   },
   "source": [
    "# Import Regular Library"
   ]
  },
  {
   "cell_type": "code",
   "execution_count": 9,
   "metadata": {
    "id": "BoP5VTGHn2Zd"
   },
   "outputs": [],
   "source": [
    "import datetime \n",
    "import time\n",
    "import numpy as np \n",
    "import pandas as pd\n",
    "import json "
   ]
  },
  {
   "cell_type": "code",
   "execution_count": 10,
   "metadata": {
    "id": "9pS598wonxsb"
   },
   "outputs": [],
   "source": [
    "import seaborn as sns ## download for using rich sea-born theme \n",
    "import matplotlib.pyplot as plt\n",
    "import matplotlib.patches as mpatches\n",
    "%matplotlib inline\n",
    "\n",
    "#from PIL import Image"
   ]
  },
  {
   "cell_type": "code",
   "execution_count": 11,
   "metadata": {
    "id": "w93cmdJL7Slf"
   },
   "outputs": [],
   "source": [
    "from plotly.offline import plot\n",
    "import plotly.graph_objects as go\n",
    "import plotly.express as px"
   ]
  },
  {
   "cell_type": "code",
   "execution_count": 12,
   "metadata": {
    "id": "G3d0m3R3zOrJ"
   },
   "outputs": [],
   "source": [
    "import tqdm\n",
    "from tqdm import tqdm\n",
    "from tqdm.notebook import tqdm\n",
    "tqdm.pandas()"
   ]
  },
  {
   "cell_type": "code",
   "execution_count": 13,
   "metadata": {
    "id": "QCoWi_Fal0JW"
   },
   "outputs": [],
   "source": [
    "import os\n",
    "import sys\n",
    "import datetime\n",
    "from scipy.stats import norm"
   ]
  },
  {
   "cell_type": "code",
   "execution_count": 14,
   "metadata": {
    "id": "2eIb1K2LQKCk"
   },
   "outputs": [],
   "source": [
    "# Assignement Related Library \n",
    "import random\n",
    "import math\n",
    "from collections import deque\n",
    "import collections\n",
    "import pickle\n",
    "\n",
    "\n",
    "  "
   ]
  },
  {
   "cell_type": "code",
   "execution_count": 15,
   "metadata": {
    "id": "R78nn5Z8MJaF"
   },
   "outputs": [],
   "source": [
    "# Tensorflow \n",
    "\n",
    "from tensorflow.keras import layers\n",
    "from tensorflow.keras.layers import Dropout\n",
    "from tensorflow.keras import Sequential\n",
    "from tensorflow.keras.layers import Dense, Activation, Flatten\n",
    "from tensorflow.keras.optimizers import Adam"
   ]
  },
  {
   "cell_type": "code",
   "execution_count": 16,
   "metadata": {
    "colab": {
     "base_uri": "https://localhost:8080/"
    },
    "id": "R8UMS1awiCq2",
    "outputId": "92b3c11f-f8f0-4971-ebea-846c602e7af7"
   },
   "outputs": [
    {
     "name": "stdout",
     "output_type": "stream",
     "text": [
      "CPU times: user 7.29 ms, sys: 1.05 ms, total: 8.34 ms\n",
      "Wall time: 7.88 ms\n"
     ]
    }
   ],
   "source": [
    "%%time\n",
    "from pydrive.auth import GoogleAuth\n",
    "from pydrive.drive import GoogleDrive\n",
    "from google.colab import auth\n",
    "from oauth2client.client import GoogleCredentials"
   ]
  },
  {
   "cell_type": "markdown",
   "metadata": {
    "id": "0Co0T4CoiQ8Q"
   },
   "source": [
    "*Authenticate* and create the PyDrive client."
   ]
  },
  {
   "cell_type": "code",
   "execution_count": 17,
   "metadata": {
    "colab": {
     "base_uri": "https://localhost:8080/"
    },
    "id": "1ZLAinVOiOK8",
    "outputId": "3ea7d6c3-576a-443b-c756-9c90ba5611a7"
   },
   "outputs": [
    {
     "name": "stdout",
     "output_type": "stream",
     "text": [
      "CPU times: user 20 ms, sys: 2 ms, total: 22 ms\n",
      "Wall time: 640 ms\n"
     ]
    }
   ],
   "source": [
    "%%time\n",
    "auth.authenticate_user()\n",
    "gauth = GoogleAuth()\n",
    "gauth.credentials = GoogleCredentials.get_application_default()\n",
    "drive = GoogleDrive(gauth)"
   ]
  },
  {
   "cell_type": "markdown",
   "metadata": {
    "id": "m-xfqssXmDvl"
   },
   "source": [
    "# Download  and Cleaning Data\n"
   ]
  },
  {
   "cell_type": "code",
   "execution_count": 18,
   "metadata": {
    "colab": {
     "base_uri": "https://localhost:8080/"
    },
    "id": "x-tIIH2s4-Kx",
    "outputId": "1d4acd6f-7515-44a1-95c6-5de5c7c83bf8"
   },
   "outputs": [
    {
     "name": "stdout",
     "output_type": "stream",
     "text": [
      "Mounted at /content/gdrive\n",
      "CPU times: user 171 ms, sys: 35.3 ms, total: 206 ms\n",
      "Wall time: 4.96 s\n"
     ]
    }
   ],
   "source": [
    "%%time\n",
    "from google.colab import drive\n",
    "drive.mount('/content/gdrive')"
   ]
  },
  {
   "cell_type": "code",
   "execution_count": 19,
   "metadata": {
    "colab": {
     "base_uri": "https://localhost:8080/"
    },
    "id": "Uq7EL3i1c396",
    "outputId": "4c134653-e965-45d3-de0c-44d3b3c7ca04"
   },
   "outputs": [
    {
     "name": "stdout",
     "output_type": "stream",
     "text": [
      " gdrive   rewards_final.pkl   sample_data  'States Tracked.pkl'\n"
     ]
    }
   ],
   "source": [
    "!ls #'/content/gdrive'"
   ]
  },
  {
   "cell_type": "code",
   "execution_count": 20,
   "metadata": {
    "id": "ZuHcRTiI7O9G"
   },
   "outputs": [],
   "source": [
    "if os.path.isdir('/content/RL_CAB')==True:\n",
    "  print('Path Exist')\n",
    "if os.path.isdir('/content/RL_CAB')==False:\n",
    "  os.mkdir('/content/RL_CAB')"
   ]
  },
  {
   "cell_type": "code",
   "execution_count": 21,
   "metadata": {
    "id": "Wwyx7z26_e9_"
   },
   "outputs": [],
   "source": [
    "# set default path for import local library \n",
    "sys.path.insert(0,'/content/RL_CAB')"
   ]
  },
  {
   "cell_type": "markdown",
   "metadata": {
    "id": "p---CEDx_SRJ"
   },
   "source": [
    " We copy data in Colab for faster execution"
   ]
  },
  {
   "cell_type": "code",
   "execution_count": 22,
   "metadata": {
    "colab": {
     "base_uri": "https://localhost:8080/"
    },
    "id": "bROZVayedIEc",
    "outputId": "e82e019d-1bc8-4f43-966f-e3a85f8ed272"
   },
   "outputs": [
    {
     "name": "stdout",
     "output_type": "stream",
     "text": [
      "'/content/gdrive/MyDrive/RL_CAB/Env.py' -> '/content/RL_CAB/Env.py'\n",
      "'/content/gdrive/MyDrive/RL_CAB/TM.npy' -> '/content/RL_CAB/TM.npy'\n"
     ]
    }
   ],
   "source": [
    "!cp -av '/content/gdrive/MyDrive/RL_CAB' '/content'"
   ]
  },
  {
   "cell_type": "code",
   "execution_count": 23,
   "metadata": {
    "id": "teSCsSJh4_sU"
   },
   "outputs": [],
   "source": [
    "root_path = '/content/RL_CAB' # use CoLab Drive for faster processing "
   ]
  },
  {
   "cell_type": "code",
   "execution_count": 24,
   "metadata": {
    "colab": {
     "base_uri": "https://localhost:8080/"
    },
    "id": "Wqyrl-zANgxX",
    "outputId": "9f1a61a0-fe36-4324-bd4d-3e171b610f87"
   },
   "outputs": [
    {
     "name": "stdout",
     "output_type": "stream",
     "text": [
      " gdrive   rewards_final.pkl   RL_CAB   sample_data  'States Tracked.pkl'\n"
     ]
    }
   ],
   "source": [
    "!ls "
   ]
  },
  {
   "cell_type": "code",
   "execution_count": 25,
   "metadata": {
    "colab": {
     "base_uri": "https://localhost:8080/",
     "height": 36
    },
    "id": "tkLPZWDyNysc",
    "outputId": "a4812a91-0083-44e8-ca9f-978b64a57bab"
   },
   "outputs": [
    {
     "data": {
      "application/vnd.google.colaboratory.intrinsic+json": {
       "type": "string"
      },
      "text/plain": [
       "'/content/RL_CAB'"
      ]
     },
     "execution_count": 25,
     "metadata": {},
     "output_type": "execute_result"
    }
   ],
   "source": [
    "root_path"
   ]
  },
  {
   "cell_type": "code",
   "execution_count": 26,
   "metadata": {
    "id": "H-zdOGmMARN5"
   },
   "outputs": [],
   "source": [
    "from Env import CabDriver"
   ]
  },
  {
   "cell_type": "code",
   "execution_count": 27,
   "metadata": {
    "id": "_IB68uEeCcZj"
   },
   "outputs": [],
   "source": [
    "env = CabDriver()"
   ]
  },
  {
   "cell_type": "markdown",
   "metadata": {
    "id": "_nuCR_9Q2h-6"
   },
   "source": [
    "# Load the Time Matrix\n",
    "\n",
    "\n"
   ]
  },
  {
   "cell_type": "code",
   "execution_count": 28,
   "metadata": {
    "id": "uLlOCQmzZZWP"
   },
   "outputs": [],
   "source": [
    "#Loading the time matrix provided as provided\n",
    "Time_matrix = np.load(\"/content/RL_CAB/TM.npy\")"
   ]
  },
  {
   "cell_type": "code",
   "execution_count": 29,
   "metadata": {
    "colab": {
     "base_uri": "https://localhost:8080/"
    },
    "id": "3l3BOimkWf5q",
    "outputId": "1e99d7ef-4dcd-4bcc-a7f2-6febb03c06bd"
   },
   "outputs": [
    {
     "data": {
      "text/plain": [
       "array([[[[ 0.,  0.,  0., ...,  0.,  0.,  0.],\n",
       "         [ 0.,  0.,  0., ...,  0.,  0.,  0.],\n",
       "         [ 0.,  0.,  0., ...,  0.,  0.,  0.],\n",
       "         ...,\n",
       "         [ 0.,  0.,  0., ...,  0.,  0.,  0.],\n",
       "         [ 0.,  0.,  0., ...,  0.,  0.,  0.],\n",
       "         [ 0.,  0.,  0., ...,  0.,  0.,  0.]],\n",
       "\n",
       "        [[ 2.,  3.,  3., ...,  7.,  0.,  6.],\n",
       "         [ 2.,  3.,  3., ...,  7.,  0.,  6.],\n",
       "         [ 2.,  3.,  3., ...,  7.,  0.,  6.],\n",
       "         ...,\n",
       "         [ 2.,  3.,  6., ...,  7.,  4.,  2.],\n",
       "         [ 2.,  3.,  6., ...,  7.,  4.,  2.],\n",
       "         [ 2.,  3.,  6., ...,  7.,  4.,  2.]],\n",
       "\n",
       "        [[ 2.,  6.,  5., ...,  3.,  7.,  7.],\n",
       "         [ 2.,  6.,  5., ...,  3.,  7.,  7.],\n",
       "         [ 2.,  6.,  5., ...,  3.,  7.,  7.],\n",
       "         ...,\n",
       "         [ 6.,  2.,  8., ...,  4.,  5.,  5.],\n",
       "         [ 6.,  2.,  8., ...,  4.,  5.,  5.],\n",
       "         [ 6.,  2.,  8., ...,  4.,  5.,  5.]],\n",
       "\n",
       "        [[10.,  6.,  8., ...,  7.,  4.,  6.],\n",
       "         [10.,  6.,  8., ...,  7.,  4.,  6.],\n",
       "         [10.,  6.,  8., ...,  7.,  4.,  6.],\n",
       "         ...,\n",
       "         [ 0.,  1.,  2., ...,  1.,  3.,  3.],\n",
       "         [ 0.,  1.,  2., ...,  1.,  3.,  3.],\n",
       "         [ 0.,  1.,  2., ...,  1.,  3.,  3.]],\n",
       "\n",
       "        [[ 1.,  1.,  1., ...,  1.,  1.,  1.],\n",
       "         [ 1.,  1.,  1., ...,  1.,  1.,  1.],\n",
       "         [ 1.,  1.,  1., ...,  1.,  1.,  1.],\n",
       "         ...,\n",
       "         [ 6.,  4.,  7., ...,  3.,  1.,  8.],\n",
       "         [ 6.,  4.,  7., ...,  3.,  1.,  8.],\n",
       "         [ 6.,  4.,  7., ...,  3.,  1.,  8.]]],\n",
       "\n",
       "\n",
       "       [[[ 2.,  3.,  3., ...,  7.,  0.,  6.],\n",
       "         [ 2.,  3.,  3., ...,  7.,  0.,  6.],\n",
       "         [ 2.,  3.,  3., ...,  7.,  0.,  6.],\n",
       "         ...,\n",
       "         [ 2.,  3.,  6., ...,  7.,  4.,  2.],\n",
       "         [ 2.,  3.,  6., ...,  7.,  4.,  2.],\n",
       "         [ 2.,  3.,  6., ...,  7.,  4.,  2.]],\n",
       "\n",
       "        [[ 0.,  0.,  0., ...,  0.,  0.,  0.],\n",
       "         [ 0.,  0.,  0., ...,  0.,  0.,  0.],\n",
       "         [ 0.,  0.,  0., ...,  0.,  0.,  0.],\n",
       "         ...,\n",
       "         [ 0.,  0.,  0., ...,  0.,  0.,  0.],\n",
       "         [ 0.,  0.,  0., ...,  0.,  0.,  0.],\n",
       "         [ 0.,  0.,  0., ...,  0.,  0.,  0.]],\n",
       "\n",
       "        [[ 5.,  6.,  5., ...,  7.,  9.,  7.],\n",
       "         [ 5.,  6.,  5., ...,  7.,  9.,  7.],\n",
       "         [ 5.,  6.,  5., ...,  7.,  9.,  7.],\n",
       "         ...,\n",
       "         [ 5., 11.,  7., ..., 10.,  6.,  8.],\n",
       "         [ 5., 11.,  7., ..., 10.,  6.,  8.],\n",
       "         [ 5., 11.,  7., ..., 10.,  6.,  8.]],\n",
       "\n",
       "        [[ 5.,  6.,  5., ...,  5.,  4.,  4.],\n",
       "         [ 5.,  6.,  5., ...,  5.,  4.,  4.],\n",
       "         [ 5.,  6.,  5., ...,  5.,  4.,  4.],\n",
       "         ...,\n",
       "         [ 1.,  2.,  1., ...,  3.,  2.,  0.],\n",
       "         [ 1.,  2.,  1., ...,  3.,  2.,  0.],\n",
       "         [ 1.,  2.,  1., ...,  3.,  2.,  0.]],\n",
       "\n",
       "        [[ 4.,  1.,  4., ...,  3.,  1.,  2.],\n",
       "         [ 4.,  1.,  4., ...,  3.,  1.,  2.],\n",
       "         [ 4.,  1.,  4., ...,  3.,  1.,  2.],\n",
       "         ...,\n",
       "         [ 4.,  0.,  3., ...,  0.,  2.,  3.],\n",
       "         [ 4.,  0.,  3., ...,  0.,  2.,  3.],\n",
       "         [ 4.,  0.,  3., ...,  0.,  2.,  3.]]],\n",
       "\n",
       "\n",
       "       [[[ 2.,  6.,  5., ...,  3.,  7.,  7.],\n",
       "         [ 2.,  6.,  5., ...,  3.,  7.,  7.],\n",
       "         [ 2.,  6.,  5., ...,  3.,  7.,  7.],\n",
       "         ...,\n",
       "         [ 6.,  2.,  8., ...,  4.,  5.,  5.],\n",
       "         [ 6.,  2.,  8., ...,  4.,  5.,  5.],\n",
       "         [ 6.,  2.,  8., ...,  4.,  5.,  5.]],\n",
       "\n",
       "        [[ 5.,  6.,  5., ...,  7.,  9.,  7.],\n",
       "         [ 5.,  6.,  5., ...,  7.,  9.,  7.],\n",
       "         [ 5.,  6.,  5., ...,  7.,  9.,  7.],\n",
       "         ...,\n",
       "         [ 5., 11.,  7., ..., 10.,  6.,  8.],\n",
       "         [ 5., 11.,  7., ..., 10.,  6.,  8.],\n",
       "         [ 5., 11.,  7., ..., 10.,  6.,  8.]],\n",
       "\n",
       "        [[ 0.,  0.,  0., ...,  0.,  0.,  0.],\n",
       "         [ 0.,  0.,  0., ...,  0.,  0.,  0.],\n",
       "         [ 0.,  0.,  0., ...,  0.,  0.,  0.],\n",
       "         ...,\n",
       "         [ 0.,  0.,  0., ...,  0.,  0.,  0.],\n",
       "         [ 0.,  0.,  0., ...,  0.,  0.,  0.],\n",
       "         [ 0.,  0.,  0., ...,  0.,  0.,  0.]],\n",
       "\n",
       "        [[ 6.,  6.,  3., ...,  6., 11.,  9.],\n",
       "         [ 6.,  6.,  3., ...,  6., 11.,  9.],\n",
       "         [ 6.,  6.,  3., ...,  6., 11.,  9.],\n",
       "         ...,\n",
       "         [ 3.,  4.,  4., ...,  6.,  5.,  2.],\n",
       "         [ 3.,  4.,  4., ...,  6.,  5.,  2.],\n",
       "         [ 3.,  4.,  4., ...,  6.,  5.,  2.]],\n",
       "\n",
       "        [[ 1.,  0.,  1., ...,  1.,  0.,  5.],\n",
       "         [ 1.,  0.,  1., ...,  1.,  0.,  5.],\n",
       "         [ 1.,  0.,  1., ...,  1.,  0.,  5.],\n",
       "         ...,\n",
       "         [ 0.,  2.,  2., ...,  0.,  0.,  2.],\n",
       "         [ 0.,  2.,  2., ...,  0.,  0.,  2.],\n",
       "         [ 0.,  2.,  2., ...,  0.,  0.,  2.]]],\n",
       "\n",
       "\n",
       "       [[[10.,  6.,  8., ...,  7.,  4.,  6.],\n",
       "         [10.,  6.,  8., ...,  7.,  4.,  6.],\n",
       "         [10.,  6.,  8., ...,  7.,  4.,  6.],\n",
       "         ...,\n",
       "         [ 0.,  1.,  2., ...,  1.,  3.,  3.],\n",
       "         [ 0.,  1.,  2., ...,  1.,  3.,  3.],\n",
       "         [ 0.,  1.,  2., ...,  1.,  3.,  3.]],\n",
       "\n",
       "        [[ 5.,  6.,  5., ...,  5.,  4.,  4.],\n",
       "         [ 5.,  6.,  5., ...,  5.,  4.,  4.],\n",
       "         [ 5.,  6.,  5., ...,  5.,  4.,  4.],\n",
       "         ...,\n",
       "         [ 1.,  2.,  1., ...,  3.,  2.,  0.],\n",
       "         [ 1.,  2.,  1., ...,  3.,  2.,  0.],\n",
       "         [ 1.,  2.,  1., ...,  3.,  2.,  0.]],\n",
       "\n",
       "        [[ 6.,  6.,  3., ...,  6., 11.,  9.],\n",
       "         [ 6.,  6.,  3., ...,  6., 11.,  9.],\n",
       "         [ 6.,  6.,  3., ...,  6., 11.,  9.],\n",
       "         ...,\n",
       "         [ 3.,  4.,  4., ...,  6.,  5.,  2.],\n",
       "         [ 3.,  4.,  4., ...,  6.,  5.,  2.],\n",
       "         [ 3.,  4.,  4., ...,  6.,  5.,  2.]],\n",
       "\n",
       "        [[ 0.,  0.,  0., ...,  0.,  0.,  0.],\n",
       "         [ 0.,  0.,  0., ...,  0.,  0.,  0.],\n",
       "         [ 0.,  0.,  0., ...,  0.,  0.,  0.],\n",
       "         ...,\n",
       "         [ 0.,  0.,  0., ...,  0.,  0.,  0.],\n",
       "         [ 0.,  0.,  0., ...,  0.,  0.,  0.],\n",
       "         [ 0.,  0.,  0., ...,  0.,  0.,  0.]],\n",
       "\n",
       "        [[ 2.,  5.,  1., ...,  3.,  2.,  2.],\n",
       "         [ 2.,  5.,  1., ...,  3.,  2.,  2.],\n",
       "         [ 2.,  5.,  1., ...,  3.,  2.,  2.],\n",
       "         ...,\n",
       "         [ 5.,  2.,  4., ...,  4.,  6.,  3.],\n",
       "         [ 5.,  2.,  4., ...,  4.,  6.,  3.],\n",
       "         [ 5.,  2.,  4., ...,  4.,  6.,  3.]]],\n",
       "\n",
       "\n",
       "       [[[ 1.,  1.,  1., ...,  1.,  1.,  1.],\n",
       "         [ 1.,  1.,  1., ...,  1.,  1.,  1.],\n",
       "         [ 1.,  1.,  1., ...,  1.,  1.,  1.],\n",
       "         ...,\n",
       "         [ 6.,  4.,  7., ...,  3.,  1.,  8.],\n",
       "         [ 6.,  4.,  7., ...,  3.,  1.,  8.],\n",
       "         [ 6.,  4.,  7., ...,  3.,  1.,  8.]],\n",
       "\n",
       "        [[ 4.,  1.,  4., ...,  3.,  1.,  2.],\n",
       "         [ 4.,  1.,  4., ...,  3.,  1.,  2.],\n",
       "         [ 4.,  1.,  4., ...,  3.,  1.,  2.],\n",
       "         ...,\n",
       "         [ 4.,  0.,  3., ...,  0.,  2.,  3.],\n",
       "         [ 4.,  0.,  3., ...,  0.,  2.,  3.],\n",
       "         [ 4.,  0.,  3., ...,  0.,  2.,  3.]],\n",
       "\n",
       "        [[ 1.,  0.,  1., ...,  1.,  0.,  5.],\n",
       "         [ 1.,  0.,  1., ...,  1.,  0.,  5.],\n",
       "         [ 1.,  0.,  1., ...,  1.,  0.,  5.],\n",
       "         ...,\n",
       "         [ 0.,  2.,  2., ...,  0.,  0.,  2.],\n",
       "         [ 0.,  2.,  2., ...,  0.,  0.,  2.],\n",
       "         [ 0.,  2.,  2., ...,  0.,  0.,  2.]],\n",
       "\n",
       "        [[ 2.,  5.,  1., ...,  3.,  2.,  2.],\n",
       "         [ 2.,  5.,  1., ...,  3.,  2.,  2.],\n",
       "         [ 2.,  5.,  1., ...,  3.,  2.,  2.],\n",
       "         ...,\n",
       "         [ 5.,  2.,  4., ...,  4.,  6.,  3.],\n",
       "         [ 5.,  2.,  4., ...,  4.,  6.,  3.],\n",
       "         [ 5.,  2.,  4., ...,  4.,  6.,  3.]],\n",
       "\n",
       "        [[ 0.,  0.,  0., ...,  0.,  0.,  0.],\n",
       "         [ 0.,  0.,  0., ...,  0.,  0.,  0.],\n",
       "         [ 0.,  0.,  0., ...,  0.,  0.,  0.],\n",
       "         ...,\n",
       "         [ 0.,  0.,  0., ...,  0.,  0.,  0.],\n",
       "         [ 0.,  0.,  0., ...,  0.,  0.,  0.],\n",
       "         [ 0.,  0.,  0., ...,  0.,  0.,  0.]]]])"
      ]
     },
     "execution_count": 29,
     "metadata": {},
     "output_type": "execute_result"
    }
   ],
   "source": [
    "Time_matrix"
   ]
  },
  {
   "cell_type": "markdown",
   "metadata": {
    "id": "jA43iNyZXF9O"
   },
   "source": [
    "# Tracking the state-action pairs for checking convergence"
   ]
  },
  {
   "cell_type": "code",
   "execution_count": 30,
   "metadata": {
    "id": "GZq6f_wHWf9X"
   },
   "outputs": [],
   "source": [
    "#Function to save the Q-dictionary in pickle file\n",
    "def save_model(obj, name ):\n",
    "    with open(name + '.pkl', 'wb') as f:\n",
    "        pickle.dump(obj, f, pickle.HIGHEST_PROTOCOL)"
   ]
  },
  {
   "cell_type": "code",
   "execution_count": 31,
   "metadata": {
    "id": "ZCqxX_tOXWMm"
   },
   "outputs": [],
   "source": [
    "#Function to return the state encoding \n",
    "def state_encoding(lst):\n",
    "    output_result=''\n",
    "    for item in lst:\n",
    "        if type(item)!=str:\n",
    "            output_result+=str(int(item))\n",
    "        else:\n",
    "            output_result+=str(item)\n",
    "    return output_result"
   ]
  },
  {
   "cell_type": "code",
   "execution_count": 32,
   "metadata": {
    "id": "FUiNKUSrrw_W"
   },
   "outputs": [],
   "source": [
    "# Tracking dictionary\n",
    "States_track = collections.defaultdict(dict)"
   ]
  },
  {
   "cell_type": "code",
   "execution_count": 33,
   "metadata": {
    "id": "FkSBuo-YXWS7"
   },
   "outputs": [],
   "source": [
    "# Initializing with default states to be tracked\n",
    "def run_tracking_states():\n",
    "    Q_values_sample = [\n",
    "                   (1,1,0,0,0,0,0,0,0,0,0,0,0,0,1,0,0,0,0,0,0,0,0,0,0,0,0,0,0,1,0,0,0,0,0,0),\n",
    "                   (1,0,0,1,0,0,0,0,0,1,0,0,0,0,0,0,0,0,0,0,0,0,0,0,0,0,0,0,0,0,1,0,0,0,0,0),\n",
    "                   (0,0,1,0,0,0,0,0,1,0,0,0,0,0,0,0,0,0,0,0,0,0,0,0,0,0,0,0,0,0,0,0,1,0,0,0),\n",
    "                   (1,0,0,0,0,0,0,0,0,0,0,0,0,0,0,0,0,0,1,0,0,0,1,0,0,0,0,0,0,0,0,0,0,0,0,1)]  \n",
    "    for q_values in tqdm(Q_values_sample):\n",
    "        state=state_encoding(q_values)\n",
    "        States_track[state]= []"
   ]
  },
  {
   "cell_type": "code",
   "execution_count": 34,
   "metadata": {
    "colab": {
     "base_uri": "https://localhost:8080/",
     "height": 49,
     "referenced_widgets": [
      "ce614ab1d5c9445489472a181086f6e3",
      "d0bfdd969df243ef9db356940f020cd7",
      "96d333a535e14e9db9a5ad3f237a70c1",
      "c35aa9d02e114ad49c5a6dd8c73540f3",
      "75486cbadfdc47a8a6ddaec813660551",
      "a6652e76049348fab683a609ffe73ba3",
      "75540713747a4469a88da5cb3269a9dc",
      "238af696f3ea412eadc248a8896ecce7",
      "8eff3dbb0d6d4d3d848668181ce23e20",
      "238dfc088f244463a428082aa17e0387",
      "92636d017a17480eb7f24073692b9dd7"
     ]
    },
    "id": "BXUVf1BSr7Nd",
    "outputId": "8b38047d-53f0-41fb-8907-c6fe504fff67"
   },
   "outputs": [
    {
     "data": {
      "application/vnd.jupyter.widget-view+json": {
       "model_id": "ce614ab1d5c9445489472a181086f6e3",
       "version_major": 2,
       "version_minor": 0
      },
      "text/plain": [
       "  0%|          | 0/4 [00:00<?, ?it/s]"
      ]
     },
     "metadata": {},
     "output_type": "display_data"
    }
   ],
   "source": [
    "#Call to initialize states tracking\n",
    "run_tracking_states()"
   ]
  },
  {
   "cell_type": "code",
   "execution_count": 35,
   "metadata": {
    "colab": {
     "base_uri": "https://localhost:8080/"
    },
    "id": "ZOWohoJWlE03",
    "outputId": "c6f80272-cddb-4df6-d03a-7f1c7e7d5214"
   },
   "outputs": [
    {
     "data": {
      "text/plain": [
       "defaultdict(dict,\n",
       "            {'001000001000000000000000000000001000': [],\n",
       "             '100000000000000000100010000000000001': [],\n",
       "             '100100000100000000000000000000100000': [],\n",
       "             '110000000000001000000000000001000000': []})"
      ]
     },
     "execution_count": 35,
     "metadata": {},
     "output_type": "execute_result"
    }
   ],
   "source": [
    "#Check the states gtracking dictionatry\n",
    "States_track"
   ]
  },
  {
   "cell_type": "code",
   "execution_count": 36,
   "metadata": {
    "id": "VXvs-Dcrlmq3"
   },
   "outputs": [],
   "source": [
    "# Parameters - \n",
    "dropout_ratio=0.23\n",
    "np.random.seed(42)\n",
    "neurons=256\n",
    "act_1='relu'\n"
   ]
  },
  {
   "cell_type": "markdown",
   "metadata": {
    "id": "OeAV6JY9lm-z"
   },
   "source": [
    "# Agent Class"
   ]
  },
  {
   "cell_type": "code",
   "execution_count": 37,
   "metadata": {
    "id": "bHDKYBvGlG51"
   },
   "outputs": [],
   "source": [
    "class DQNAgent:\n",
    "    \n",
    "    #Initializing variables and default hyper-parameters\n",
    "    def __init__(self, state_size, action_size):\n",
    "        self.state_size = state_size       #Define size of state\n",
    "        self.action_size = action_size     #Define size of action\n",
    "        self.track_loss=[]                 #Tracking the loss\n",
    "\n",
    "        # Hyper-parameters for the DQN\n",
    "        self.discount_factor = 0.95\n",
    "        self.learning_rate = 0.01 \n",
    "        self.epsilon_max = 1.0\n",
    "        self.epsilon_decay = 0.0003\n",
    "        self.epsilon_min = 0.000001\n",
    "        self.batch_size = 256\n",
    "        self.memory = deque(maxlen=2000)   #Replay memory using deque\n",
    "        self.model = self.build_model()    #Main model and target model\n",
    "\n",
    "        \n",
    "    #Defining  Q function using DNN with Two Layers \n",
    "    def build_model(self):\n",
    "        \n",
    "\n",
    "        # The DNN Model\n",
    "\n",
    "        model=Sequential() \n",
    "\n",
    "        # Layer 1\n",
    "        model.add(Dense(neurons, input_dim=self.state_size, use_bias=True, kernel_initializer='he_uniform',bias_initializer='zeros'))\n",
    "        model.add(Activation(act_1))\n",
    "        model.add(Dropout(dropout_ratio))\n",
    "\n",
    "        # Layer 2\n",
    "        model.add(Dense(neurons*2, use_bias=True, kernel_initializer='he_uniform'\n",
    "                      , bias_initializer='zeros'))\n",
    "        model.add(Activation(act_1))\n",
    "        model.add(Dropout(dropout_ratio))\n",
    "      \n",
    "     \n",
    "        #Compile the model\n",
    "        model.compile(loss='mse',optimizer=Adam(lr=self.learning_rate))\n",
    "        model.summary\n",
    "        return model\n",
    "\n",
    "    #Pick samples randomly from replay memory\n",
    "    \n",
    "    def train_model(self):\n",
    "        if len(self.memory) > self.batch_size:\n",
    "            \n",
    "            #sample batch from the memory\n",
    "            mini_batch = random.sample(self.memory, self.batch_size)\n",
    "            update_output = np.zeros((self.batch_size, self.state_size))\n",
    "            update_input = np.zeros((self.batch_size, self.state_size))\n",
    "\n",
    "            actions, rewards, done = [], [],[]\n",
    "            \n",
    "            #Loop throught the batch\n",
    "            for i in range(self.batch_size):\n",
    "                state, action, reward, next_state,done_boolean = mini_batch[i]\n",
    "                update_input[i] = state\n",
    "                actions.append(action)\n",
    "                rewards.append(reward)\n",
    "                update_output[i] = next_state\n",
    "                done.append(done_boolean)\n",
    "\n",
    "            #Predict the target using previous model\n",
    "            target = self.model.predict(update_input)\n",
    "\n",
    "            #Get the target for the Q-network\n",
    "            target_qval = self.model.predict(update_output)\n",
    "        \n",
    "            #Updating 'update_output' and 'update_input' batch\n",
    "            for i in range(self.batch_size):\n",
    "                if done[i]:\n",
    "                    target[i][actions[i]] = rewards[i]\n",
    "                else: \n",
    "                    # non-terminal state\n",
    "                    target[i][actions[i]] = rewards[i] + self.discount_factor * np.max(target_qval[i]) #Pure DQL formula\n",
    "          \n",
    "                #Saving the Q values for the states tracked\n",
    "                state_key=state_encoding(update_input[i])\n",
    "                if state_key in States_track.keys():\n",
    "                    States_track[state_key].append(target[i])\n",
    "        \n",
    "            #Fitting the model and tracking the loss values\n",
    "            history=self.model.fit(update_input, target, batch_size=self.batch_size, epochs=1, verbose=0)\n",
    "            self.track_loss.append(history.history['loss'])\n",
    "\n",
    "\n",
    "    #Get the model weights\n",
    "    def call_weights_of_model(self):\n",
    "        return self.model.get_weights()\n",
    "    \n",
    "    #Decide the action either by exploration or exploitation\n",
    "    def get_action(self, state,request_actions):\n",
    "      # get action from model using epsilon-greedy policy\n",
    "        if np.random.rand() <= self.epsilon_max:  \n",
    "            return request_actions[random.randrange(len(request_actions))]\n",
    "        else:\n",
    "          # choose the action with the highest q(s, a)\n",
    "            state = state.reshape(1, self.state_size)\n",
    "            q_value = self.model.predict(state)\n",
    "            return np.argmax(q_value)    \n",
    "\n",
    "    #Save sample to the replay memory\n",
    "    def append_sample(self, state, action, reward, next_state,done):\n",
    "        self.memory.append((state, action, reward, next_state,done))    \n",
    "        \n",
    "        \n",
    "    #Save the model\n",
    "    def save(self ,name):\n",
    "        self.model.save(name)"
   ]
  },
  {
   "cell_type": "code",
   "execution_count": 39,
   "metadata": {
    "id": "BzLiBeQ8lf5f"
   },
   "outputs": [],
   "source": [
    "#Define the episodes\n",
    "Episodes= 100 #1000\n",
    "\n",
    "#Set the environment\n",
    "env=CabDriver()\n",
    "\n",
    "#Call the DQL agent and compute rewards\n",
    "agent=DQNAgent(state_size=env.state_size,action_size=env.action_size)\n",
    "rewards_per_episode, episodes = [], []"
   ]
  },
  {
   "cell_type": "markdown",
   "metadata": {
    "id": "Xi6VtrGCsa4M"
   },
   "source": [
    "# DQN block"
   ]
  },
  {
   "cell_type": "code",
   "execution_count": 40,
   "metadata": {
    "colab": {
     "base_uri": "https://localhost:8080/",
     "height": 49,
     "referenced_widgets": [
      "af735b4e1bc3490883d016d5afc836ef",
      "a31c560045754a2189a59a7d7f8000fc",
      "fee6687810fe40219c689a53451c23e0",
      "66eb70fbe6374a1eb5ba5ee45e7cf559",
      "5a4f3324247b4a3a9d3ee62180f580de",
      "91d9aeb82a4749de9eb764db3e8e0262",
      "fe0e017030f3478aa91f10df76143fed",
      "ca9ac72884fb4850b6826a5677eac7dc",
      "96ac424a8d924bf59013e9e24c4910dd",
      "1722b6f16cde47d99d8e4a55b31c20b3",
      "07496fa0d84148af8cb2cfab688d704a"
     ]
    },
    "id": "xao8D128sYCo",
    "outputId": "1358084c-0d38-44bc-b4c9-2825797a5955"
   },
   "outputs": [
    {
     "data": {
      "application/vnd.jupyter.widget-view+json": {
       "model_id": "af735b4e1bc3490883d016d5afc836ef",
       "version_major": 2,
       "version_minor": 0
      },
      "text/plain": [
       "  0%|          | 0/100 [00:00<?, ?it/s]"
      ]
     },
     "metadata": {},
     "output_type": "display_data"
    }
   ],
   "source": [
    "#Loop each episode\n",
    "\n",
    "for episode in tqdm(range(Episodes)):\n",
    "    terminal_state=False\n",
    "    score=0\n",
    "    env_initalized=env.reset()\n",
    "    state=env_initalized[2]\n",
    "    \n",
    "    while not terminal_state:\n",
    "        request_actions=env.requests(state)\n",
    "        next_action=agent.get_action(env.state_encod_arch1(state),request_actions) \n",
    "        next_state,action,reward,is_done=env.next_state_func(state,next_action,Time_matrix)\n",
    "        if action[0]!=0 and action[1]!=0:\n",
    "            agent.append_sample(env.state_encod_arch1(state),env.action_space.index(action),reward,env.state_encod_arch1(next_state),is_done)\n",
    "            \n",
    "            #Train the model by calling agent.train_model\n",
    "            agent.train_model()\n",
    "            \n",
    "            #Keep a track of rewards, Q-values, loss\n",
    "            score+=reward\n",
    "        \n",
    "        #Assinging state with next_state\n",
    "        state=next_state\n",
    "        terminal_state=is_done\n",
    "    \n",
    "    rewards_per_episode.append(score)\n",
    "    episodes.append(episode)\n",
    "    \n",
    "    #Update the epsilon value for action \n",
    "    if agent.epsilon_max > agent.epsilon_min:\n",
    "        agent.epsilon_max=agent.epsilon_min+(agent.epsilon_max-agent.epsilon_min)*np.exp(-0.000001*episode)\n",
    "    \n",
    "    #Save the model\n",
    "    if (episode+1) %1000 == 0:\n",
    "        save_model(agent.call_weights_of_model(), 'weights_per_'+str(episode+1)+'_epiosde')\n",
    "        agent.save(name=\"SuperCabs_DQN_model.h5\")\n",
    "        print(\"episode {0}, reward {1}, memory_length {2}, epsilon {3}\".format(episode,score,len(agent.memory),agent.epsilon_max))"
   ]
  },
  {
   "cell_type": "code",
   "execution_count": 41,
   "metadata": {
    "id": "GHXEzvivtBih"
   },
   "outputs": [],
   "source": [
    "#Save the rewards\n",
    "save_model(rewards_per_episode,\"rewards_final\")"
   ]
  },
  {
   "cell_type": "code",
   "execution_count": 42,
   "metadata": {
    "id": "II0ecXFEtLRn"
   },
   "outputs": [],
   "source": [
    "#Save the states tracked\n",
    "save_model(States_track,\"States Tracked\")\n",
    "state_keys=list(States_track.keys())"
   ]
  },
  {
   "cell_type": "markdown",
   "metadata": {
    "id": "7KTztNDttQPa"
   },
   "source": [
    "# Tracking Convergence"
   ]
  },
  {
   "cell_type": "code",
   "execution_count": 43,
   "metadata": {
    "id": "eQap1Pp8tNHA"
   },
   "outputs": [],
   "source": [
    "#Load the rewards file to check convergence\n",
    "with open('rewards_final.pkl', 'rb') as f:\n",
    "    rewards_per_episode = pickle.load(f)"
   ]
  },
  {
   "cell_type": "code",
   "execution_count": 44,
   "metadata": {
    "colab": {
     "base_uri": "https://localhost:8080/",
     "height": 279
    },
    "id": "Tg6dteBGtTKf",
    "outputId": "a6749c1d-9864-4c72-de26-9f097e309f96"
   },
   "outputs": [
    {
     "data": {
      "image/png": "[encoded data removed]",
      "text/plain": [
       "<Figure size 432x288 with 1 Axes>"
      ]
     },
     "metadata": {
      "needs_background": "light"
     },
     "output_type": "display_data"
    }
   ],
   "source": [
    "#Plot the convergence\n",
    "plt.plot(list(range(len(rewards_per_episode))), rewards_per_episode)\n",
    "plt.xlabel(\"Number of Episodes\")\n",
    "plt.ylabel(\"Reward for each Episode\")\n",
    "#plt.yscale('log')\n",
    "plt.show()"
   ]
  },
  {
   "cell_type": "code",
   "execution_count": 45,
   "metadata": {
    "colab": {
     "base_uri": "https://localhost:8080/",
     "height": 265
    },
    "id": "Tb7YgzvLtU2J",
    "outputId": "57f7c6ba-0a76-4510-b71d-49503d37681e"
   },
   "outputs": [
    {
     "data": {
      "image/png": "[encoded data removed]",
      "text/plain": [
       "<Figure size 432x288 with 1 Axes>"
      ]
     },
     "metadata": {
      "needs_background": "light"
     },
     "output_type": "display_data"
    }
   ],
   "source": [
    "#Sample epsilon decay expression\n",
    "time = np.arange(0,10000)\n",
    "epsilon = []\n",
    "for i in range(0,10000):\n",
    "    epsilon.append(0 + (1 - 0) * np.exp(-0.0009*i))\n",
    "\n",
    "plt.plot(time, epsilon)\n",
    "plt.show() "
   ]
  },
  {
   "cell_type": "code",
   "execution_count": 53,
   "metadata": {
    "id": "EIP_Xox1taT4"
   },
   "outputs": [],
   "source": []
  }
 ],
 "metadata": {
  "accelerator": "GPU",
  "colab": {
   "collapsed_sections": [],
   "machine_shape": "hm",
   "name": "RL_Driver_Assignment_Farooq.ipynb",
   "provenance": []
  },
  "gpuClass": "standard",
  "kernelspec": {
   "display_name": "Python 3 (ipykernel)",
   "language": "python",
   "name": "python3"
  },
  "language_info": {
   "codemirror_mode": {
    "name": "ipython",
    "version": 3
   },
   "file_extension": ".py",
   "mimetype": "text/x-python",
   "name": "python",
   "nbconvert_exporter": "python",
   "pygments_lexer": "ipython3",
   "version": "3.9.12"
  },
  "widgets": {
   "application/vnd.jupyter.widget-state+json": {
    "07496fa0d84148af8cb2cfab688d704a": {
     "model_module": "@jupyter-widgets/controls",
     "model_module_version": "1.5.0",
     "model_name": "DescriptionStyleModel",
     "state": {
      "_model_module": "@jupyter-widgets/controls",
      "_model_module_version": "1.5.0",
      "_model_name": "DescriptionStyleModel",
      "_view_count": null,
      "_view_module": "@jupyter-widgets/base",
      "_view_module_version": "1.2.0",
      "_view_name": "StyleView",
      "description_width": ""
     }
    },
    "1722b6f16cde47d99d8e4a55b31c20b3": {
     "model_module": "@jupyter-widgets/base",
     "model_module_version": "1.2.0",
     "model_name": "LayoutModel",
     "state": {
      "_model_module": "@jupyter-widgets/base",
      "_model_module_version": "1.2.0",
      "_model_name": "LayoutModel",
      "_view_count": null,
      "_view_module": "@jupyter-widgets/base",
      "_view_module_version": "1.2.0",
      "_view_name": "LayoutView",
      "align_content": null,
      "align_items": null,
      "align_self": null,
      "border": null,
      "bottom": null,
      "display": null,
      "flex": null,
      "flex_flow": null,
      "grid_area": null,
      "grid_auto_columns": null,
      "grid_auto_flow": null,
      "grid_auto_rows": null,
      "grid_column": null,
      "grid_gap": null,
      "grid_row": null,
      "grid_template_areas": null,
      "grid_template_columns": null,
      "grid_template_rows": null,
      "height": null,
      "justify_content": null,
      "justify_items": null,
      "left": null,
      "margin": null,
      "max_height": null,
      "max_width": null,
      "min_height": null,
      "min_width": null,
      "object_fit": null,
      "object_position": null,
      "order": null,
      "overflow": null,
      "overflow_x": null,
      "overflow_y": null,
      "padding": null,
      "right": null,
      "top": null,
      "visibility": null,
      "width": null
     }
    },
    "238af696f3ea412eadc248a8896ecce7": {
     "model_module": "@jupyter-widgets/base",
     "model_module_version": "1.2.0",
     "model_name": "LayoutModel",
     "state": {
      "_model_module": "@jupyter-widgets/base",
      "_model_module_version": "1.2.0",
      "_model_name": "LayoutModel",
      "_view_count": null,
      "_view_module": "@jupyter-widgets/base",
      "_view_module_version": "1.2.0",
      "_view_name": "LayoutView",
      "align_content": null,
      "align_items": null,
      "align_self": null,
      "border": null,
      "bottom": null,
      "display": null,
      "flex": null,
      "flex_flow": null,
      "grid_area": null,
      "grid_auto_columns": null,
      "grid_auto_flow": null,
      "grid_auto_rows": null,
      "grid_column": null,
      "grid_gap": null,
      "grid_row": null,
      "grid_template_areas": null,
      "grid_template_columns": null,
      "grid_template_rows": null,
      "height": null,
      "justify_content": null,
      "justify_items": null,
      "left": null,
      "margin": null,
      "max_height": null,
      "max_width": null,
      "min_height": null,
      "min_width": null,
      "object_fit": null,
      "object_position": null,
      "order": null,
      "overflow": null,
      "overflow_x": null,
      "overflow_y": null,
      "padding": null,
      "right": null,
      "top": null,
      "visibility": null,
      "width": null
     }
    },
    "238dfc088f244463a428082aa17e0387": {
     "model_module": "@jupyter-widgets/base",
     "model_module_version": "1.2.0",
     "model_name": "LayoutModel",
     "state": {
      "_model_module": "@jupyter-widgets/base",
      "_model_module_version": "1.2.0",
      "_model_name": "LayoutModel",
      "_view_count": null,
      "_view_module": "@jupyter-widgets/base",
      "_view_module_version": "1.2.0",
      "_view_name": "LayoutView",
      "align_content": null,
      "align_items": null,
      "align_self": null,
      "border": null,
      "bottom": null,
      "display": null,
      "flex": null,
      "flex_flow": null,
      "grid_area": null,
      "grid_auto_columns": null,
      "grid_auto_flow": null,
      "grid_auto_rows": null,
      "grid_column": null,
      "grid_gap": null,
      "grid_row": null,
      "grid_template_areas": null,
      "grid_template_columns": null,
      "grid_template_rows": null,
      "height": null,
      "justify_content": null,
      "justify_items": null,
      "left": null,
      "margin": null,
      "max_height": null,
      "max_width": null,
      "min_height": null,
      "min_width": null,
      "object_fit": null,
      "object_position": null,
      "order": null,
      "overflow": null,
      "overflow_x": null,
      "overflow_y": null,
      "padding": null,
      "right": null,
      "top": null,
      "visibility": null,
      "width": null
     }
    },
    "5a4f3324247b4a3a9d3ee62180f580de": {
     "model_module": "@jupyter-widgets/base",
     "model_module_version": "1.2.0",
     "model_name": "LayoutModel",
     "state": {
      "_model_module": "@jupyter-widgets/base",
      "_model_module_version": "1.2.0",
      "_model_name": "LayoutModel",
      "_view_count": null,
      "_view_module": "@jupyter-widgets/base",
      "_view_module_version": "1.2.0",
      "_view_name": "LayoutView",
      "align_content": null,
      "align_items": null,
      "align_self": null,
      "border": null,
      "bottom": null,
      "display": null,
      "flex": null,
      "flex_flow": null,
      "grid_area": null,
      "grid_auto_columns": null,
      "grid_auto_flow": null,
      "grid_auto_rows": null,
      "grid_column": null,
      "grid_gap": null,
      "grid_row": null,
      "grid_template_areas": null,
      "grid_template_columns": null,
      "grid_template_rows": null,
      "height": null,
      "justify_content": null,
      "justify_items": null,
      "left": null,
      "margin": null,
      "max_height": null,
      "max_width": null,
      "min_height": null,
      "min_width": null,
      "object_fit": null,
      "object_position": null,
      "order": null,
      "overflow": null,
      "overflow_x": null,
      "overflow_y": null,
      "padding": null,
      "right": null,
      "top": null,
      "visibility": null,
      "width": null
     }
    },
    "66eb70fbe6374a1eb5ba5ee45e7cf559": {
     "model_module": "@jupyter-widgets/controls",
     "model_module_version": "1.5.0",
     "model_name": "HTMLModel",
     "state": {
      "_dom_classes": [],
      "_model_module": "@jupyter-widgets/controls",
      "_model_module_version": "1.5.0",
      "_model_name": "HTMLModel",
      "_view_count": null,
      "_view_module": "@jupyter-widgets/controls",
      "_view_module_version": "1.5.0",
      "_view_name": "HTMLView",
      "description": "",
      "description_tooltip": null,
      "layout": "IPY_MODEL_1722b6f16cde47d99d8e4a55b31c20b3",
      "placeholder": "​",
      "style": "IPY_MODEL_07496fa0d84148af8cb2cfab688d704a",
      "value": " 100/100 [24:55&lt;00:00, 15.18s/it]"
     }
    },
    "75486cbadfdc47a8a6ddaec813660551": {
     "model_module": "@jupyter-widgets/base",
     "model_module_version": "1.2.0",
     "model_name": "LayoutModel",
     "state": {
      "_model_module": "@jupyter-widgets/base",
      "_model_module_version": "1.2.0",
      "_model_name": "LayoutModel",
      "_view_count": null,
      "_view_module": "@jupyter-widgets/base",
      "_view_module_version": "1.2.0",
      "_view_name": "LayoutView",
      "align_content": null,
      "align_items": null,
      "align_self": null,
      "border": null,
      "bottom": null,
      "display": null,
      "flex": null,
      "flex_flow": null,
      "grid_area": null,
      "grid_auto_columns": null,
      "grid_auto_flow": null,
      "grid_auto_rows": null,
      "grid_column": null,
      "grid_gap": null,
      "grid_row": null,
      "grid_template_areas": null,
      "grid_template_columns": null,
      "grid_template_rows": null,
      "height": null,
      "justify_content": null,
      "justify_items": null,
      "left": null,
      "margin": null,
      "max_height": null,
      "max_width": null,
      "min_height": null,
      "min_width": null,
      "object_fit": null,
      "object_position": null,
      "order": null,
      "overflow": null,
      "overflow_x": null,
      "overflow_y": null,
      "padding": null,
      "right": null,
      "top": null,
      "visibility": null,
      "width": null
     }
    },
    "75540713747a4469a88da5cb3269a9dc": {
     "model_module": "@jupyter-widgets/controls",
     "model_module_version": "1.5.0",
     "model_name": "DescriptionStyleModel",
     "state": {
      "_model_module": "@jupyter-widgets/controls",
      "_model_module_version": "1.5.0",
      "_model_name": "DescriptionStyleModel",
      "_view_count": null,
      "_view_module": "@jupyter-widgets/base",
      "_view_module_version": "1.2.0",
      "_view_name": "StyleView",
      "description_width": ""
     }
    },
    "8eff3dbb0d6d4d3d848668181ce23e20": {
     "model_module": "@jupyter-widgets/controls",
     "model_module_version": "1.5.0",
     "model_name": "ProgressStyleModel",
     "state": {
      "_model_module": "@jupyter-widgets/controls",
      "_model_module_version": "1.5.0",
      "_model_name": "ProgressStyleModel",
      "_view_count": null,
      "_view_module": "@jupyter-widgets/base",
      "_view_module_version": "1.2.0",
      "_view_name": "StyleView",
      "bar_color": null,
      "description_width": ""
     }
    },
    "91d9aeb82a4749de9eb764db3e8e0262": {
     "model_module": "@jupyter-widgets/base",
     "model_module_version": "1.2.0",
     "model_name": "LayoutModel",
     "state": {
      "_model_module": "@jupyter-widgets/base",
      "_model_module_version": "1.2.0",
      "_model_name": "LayoutModel",
      "_view_count": null,
      "_view_module": "@jupyter-widgets/base",
      "_view_module_version": "1.2.0",
      "_view_name": "LayoutView",
      "align_content": null,
      "align_items": null,
      "align_self": null,
      "border": null,
      "bottom": null,
      "display": null,
      "flex": null,
      "flex_flow": null,
      "grid_area": null,
      "grid_auto_columns": null,
      "grid_auto_flow": null,
      "grid_auto_rows": null,
      "grid_column": null,
      "grid_gap": null,
      "grid_row": null,
      "grid_template_areas": null,
      "grid_template_columns": null,
      "grid_template_rows": null,
      "height": null,
      "justify_content": null,
      "justify_items": null,
      "left": null,
      "margin": null,
      "max_height": null,
      "max_width": null,
      "min_height": null,
      "min_width": null,
      "object_fit": null,
      "object_position": null,
      "order": null,
      "overflow": null,
      "overflow_x": null,
      "overflow_y": null,
      "padding": null,
      "right": null,
      "top": null,
      "visibility": null,
      "width": null
     }
    },
    "92636d017a17480eb7f24073692b9dd7": {
     "model_module": "@jupyter-widgets/controls",
     "model_module_version": "1.5.0",
     "model_name": "DescriptionStyleModel",
     "state": {
      "_model_module": "@jupyter-widgets/controls",
      "_model_module_version": "1.5.0",
      "_model_name": "DescriptionStyleModel",
      "_view_count": null,
      "_view_module": "@jupyter-widgets/base",
      "_view_module_version": "1.2.0",
      "_view_name": "StyleView",
      "description_width": ""
     }
    },
    "96ac424a8d924bf59013e9e24c4910dd": {
     "model_module": "@jupyter-widgets/controls",
     "model_module_version": "1.5.0",
     "model_name": "ProgressStyleModel",
     "state": {
      "_model_module": "@jupyter-widgets/controls",
      "_model_module_version": "1.5.0",
      "_model_name": "ProgressStyleModel",
      "_view_count": null,
      "_view_module": "@jupyter-widgets/base",
      "_view_module_version": "1.2.0",
      "_view_name": "StyleView",
      "bar_color": null,
      "description_width": ""
     }
    },
    "96d333a535e14e9db9a5ad3f237a70c1": {
     "model_module": "@jupyter-widgets/controls",
     "model_module_version": "1.5.0",
     "model_name": "FloatProgressModel",
     "state": {
      "_dom_classes": [],
      "_model_module": "@jupyter-widgets/controls",
      "_model_module_version": "1.5.0",
      "_model_name": "FloatProgressModel",
      "_view_count": null,
      "_view_module": "@jupyter-widgets/controls",
      "_view_module_version": "1.5.0",
      "_view_name": "ProgressView",
      "bar_style": "success",
      "description": "",
      "description_tooltip": null,
      "layout": "IPY_MODEL_238af696f3ea412eadc248a8896ecce7",
      "max": 4,
      "min": 0,
      "orientation": "horizontal",
      "style": "IPY_MODEL_8eff3dbb0d6d4d3d848668181ce23e20",
      "value": 4
     }
    },
    "a31c560045754a2189a59a7d7f8000fc": {
     "model_module": "@jupyter-widgets/controls",
     "model_module_version": "1.5.0",
     "model_name": "HTMLModel",
     "state": {
      "_dom_classes": [],
      "_model_module": "@jupyter-widgets/controls",
      "_model_module_version": "1.5.0",
      "_model_name": "HTMLModel",
      "_view_count": null,
      "_view_module": "@jupyter-widgets/controls",
      "_view_module_version": "1.5.0",
      "_view_name": "HTMLView",
      "description": "",
      "description_tooltip": null,
      "layout": "IPY_MODEL_91d9aeb82a4749de9eb764db3e8e0262",
      "placeholder": "​",
      "style": "IPY_MODEL_fe0e017030f3478aa91f10df76143fed",
      "value": "100%"
     }
    },
    "a6652e76049348fab683a609ffe73ba3": {
     "model_module": "@jupyter-widgets/base",
     "model_module_version": "1.2.0",
     "model_name": "LayoutModel",
     "state": {
      "_model_module": "@jupyter-widgets/base",
      "_model_module_version": "1.2.0",
      "_model_name": "LayoutModel",
      "_view_count": null,
      "_view_module": "@jupyter-widgets/base",
      "_view_module_version": "1.2.0",
      "_view_name": "LayoutView",
      "align_content": null,
      "align_items": null,
      "align_self": null,
      "border": null,
      "bottom": null,
      "display": null,
      "flex": null,
      "flex_flow": null,
      "grid_area": null,
      "grid_auto_columns": null,
      "grid_auto_flow": null,
      "grid_auto_rows": null,
      "grid_column": null,
      "grid_gap": null,
      "grid_row": null,
      "grid_template_areas": null,
      "grid_template_columns": null,
      "grid_template_rows": null,
      "height": null,
      "justify_content": null,
      "justify_items": null,
      "left": null,
      "margin": null,
      "max_height": null,
      "max_width": null,
      "min_height": null,
      "min_width": null,
      "object_fit": null,
      "object_position": null,
      "order": null,
      "overflow": null,
      "overflow_x": null,
      "overflow_y": null,
      "padding": null,
      "right": null,
      "top": null,
      "visibility": null,
      "width": null
     }
    },
    "af735b4e1bc3490883d016d5afc836ef": {
     "model_module": "@jupyter-widgets/controls",
     "model_module_version": "1.5.0",
     "model_name": "HBoxModel",
     "state": {
      "_dom_classes": [],
      "_model_module": "@jupyter-widgets/controls",
      "_model_module_version": "1.5.0",
      "_model_name": "HBoxModel",
      "_view_count": null,
      "_view_module": "@jupyter-widgets/controls",
      "_view_module_version": "1.5.0",
      "_view_name": "HBoxView",
      "box_style": "",
      "children": [
       "IPY_MODEL_a31c560045754a2189a59a7d7f8000fc",
       "IPY_MODEL_fee6687810fe40219c689a53451c23e0",
       "IPY_MODEL_66eb70fbe6374a1eb5ba5ee45e7cf559"
      ],
      "layout": "IPY_MODEL_5a4f3324247b4a3a9d3ee62180f580de"
     }
    },
    "c35aa9d02e114ad49c5a6dd8c73540f3": {
     "model_module": "@jupyter-widgets/controls",
     "model_module_version": "1.5.0",
     "model_name": "HTMLModel",
     "state": {
      "_dom_classes": [],
      "_model_module": "@jupyter-widgets/controls",
      "_model_module_version": "1.5.0",
      "_model_name": "HTMLModel",
      "_view_count": null,
      "_view_module": "@jupyter-widgets/controls",
      "_view_module_version": "1.5.0",
      "_view_name": "HTMLView",
      "description": "",
      "description_tooltip": null,
      "layout": "IPY_MODEL_238dfc088f244463a428082aa17e0387",
      "placeholder": "​",
      "style": "IPY_MODEL_92636d017a17480eb7f24073692b9dd7",
      "value": " 4/4 [00:00&lt;00:00, 137.63it/s]"
     }
    },
    "ca9ac72884fb4850b6826a5677eac7dc": {
     "model_module": "@jupyter-widgets/base",
     "model_module_version": "1.2.0",
     "model_name": "LayoutModel",
     "state": {
      "_model_module": "@jupyter-widgets/base",
      "_model_module_version": "1.2.0",
      "_model_name": "LayoutModel",
      "_view_count": null,
      "_view_module": "@jupyter-widgets/base",
      "_view_module_version": "1.2.0",
      "_view_name": "LayoutView",
      "align_content": null,
      "align_items": null,
      "align_self": null,
      "border": null,
      "bottom": null,
      "display": null,
      "flex": null,
      "flex_flow": null,
      "grid_area": null,
      "grid_auto_columns": null,
      "grid_auto_flow": null,
      "grid_auto_rows": null,
      "grid_column": null,
      "grid_gap": null,
      "grid_row": null,
      "grid_template_areas": null,
      "grid_template_columns": null,
      "grid_template_rows": null,
      "height": null,
      "justify_content": null,
      "justify_items": null,
      "left": null,
      "margin": null,
      "max_height": null,
      "max_width": null,
      "min_height": null,
      "min_width": null,
      "object_fit": null,
      "object_position": null,
      "order": null,
      "overflow": null,
      "overflow_x": null,
      "overflow_y": null,
      "padding": null,
      "right": null,
      "top": null,
      "visibility": null,
      "width": null
     }
    },
    "ce614ab1d5c9445489472a181086f6e3": {
     "model_module": "@jupyter-widgets/controls",
     "model_module_version": "1.5.0",
     "model_name": "HBoxModel",
     "state": {
      "_dom_classes": [],
      "_model_module": "@jupyter-widgets/controls",
      "_model_module_version": "1.5.0",
      "_model_name": "HBoxModel",
      "_view_count": null,
      "_view_module": "@jupyter-widgets/controls",
      "_view_module_version": "1.5.0",
      "_view_name": "HBoxView",
      "box_style": "",
      "children": [
       "IPY_MODEL_d0bfdd969df243ef9db356940f020cd7",
       "IPY_MODEL_96d333a535e14e9db9a5ad3f237a70c1",
       "IPY_MODEL_c35aa9d02e114ad49c5a6dd8c73540f3"
      ],
      "layout": "IPY_MODEL_75486cbadfdc47a8a6ddaec813660551"
     }
    },
    "d0bfdd969df243ef9db356940f020cd7": {
     "model_module": "@jupyter-widgets/controls",
     "model_module_version": "1.5.0",
     "model_name": "HTMLModel",
     "state": {
      "_dom_classes": [],
      "_model_module": "@jupyter-widgets/controls",
      "_model_module_version": "1.5.0",
      "_model_name": "HTMLModel",
      "_view_count": null,
      "_view_module": "@jupyter-widgets/controls",
      "_view_module_version": "1.5.0",
      "_view_name": "HTMLView",
      "description": "",
      "description_tooltip": null,
      "layout": "IPY_MODEL_a6652e76049348fab683a609ffe73ba3",
      "placeholder": "​",
      "style": "IPY_MODEL_75540713747a4469a88da5cb3269a9dc",
      "value": "100%"
     }
    },
    "fe0e017030f3478aa91f10df76143fed": {
     "model_module": "@jupyter-widgets/controls",
     "model_module_version": "1.5.0",
     "model_name": "DescriptionStyleModel",
     "state": {
      "_model_module": "@jupyter-widgets/controls",
      "_model_module_version": "1.5.0",
      "_model_name": "DescriptionStyleModel",
      "_view_count": null,
      "_view_module": "@jupyter-widgets/base",
      "_view_module_version": "1.2.0",
      "_view_name": "StyleView",
      "description_width": ""
     }
    },
    "fee6687810fe40219c689a53451c23e0": {
     "model_module": "@jupyter-widgets/controls",
     "model_module_version": "1.5.0",
     "model_name": "FloatProgressModel",
     "state": {
      "_dom_classes": [],
      "_model_module": "@jupyter-widgets/controls",
      "_model_module_version": "1.5.0",
      "_model_name": "FloatProgressModel",
      "_view_count": null,
      "_view_module": "@jupyter-widgets/controls",
      "_view_module_version": "1.5.0",
      "_view_name": "ProgressView",
      "bar_style": "success",
      "description": "",
      "description_tooltip": null,
      "layout": "IPY_MODEL_ca9ac72884fb4850b6826a5677eac7dc",
      "max": 100,
      "min": 0,
      "orientation": "horizontal",
      "style": "IPY_MODEL_96ac424a8d924bf59013e9e24c4910dd",
      "value": 100
     }
    }
   }
  }
 },
 "nbformat": 4,
 "nbformat_minor": 4
}
